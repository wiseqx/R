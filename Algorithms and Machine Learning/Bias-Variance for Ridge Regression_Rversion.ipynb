{
 "cells": [
  {
   "cell_type": "markdown",
   "metadata": {},
   "source": [
    "## Bias-Variance for Ridge Regression"
   ]
  },
  {
   "cell_type": "code",
   "execution_count": 1,
   "metadata": {},
   "outputs": [
    {
     "data": {
      "text/html": [
       "'R version 3.4.3 (2017-11-30)'"
      ],
      "text/latex": [
       "'R version 3.4.3 (2017-11-30)'"
      ],
      "text/markdown": [
       "'R version 3.4.3 (2017-11-30)'"
      ],
      "text/plain": [
       "[1] \"R version 3.4.3 (2017-11-30)\""
      ]
     },
     "metadata": {},
     "output_type": "display_data"
    }
   ],
   "source": [
    "version$version.string ##R would be used in this question"
   ]
  },
  {
   "cell_type": "markdown",
   "metadata": {},
   "source": [
    "### Step I:\n",
    "I.\tLoad Task2B_train.csv and Task2B_test.csv sets."
   ]
  },
  {
   "cell_type": "code",
   "execution_count": 2,
   "metadata": {},
   "outputs": [],
   "source": [
    "# reading the data\n",
    "read_data <- function(fname, sc) {\n",
    "    #read data \n",
    "  data <- read.csv(file=fname,head=TRUE,sep=\",\")\n",
    "  nr = dim(data)[1]\n",
    "  nc = dim(data)[2]\n",
    "  #extract x\n",
    "  x = data[1:nr,1:(nc-1)]\n",
    "  #extract y\n",
    "  y = data[1:nr,nc]\n",
    "  if (isTRUE(sc)) {\n",
    "    #scale x\n",
    "    x = scale(x)\n",
    "    #scale y\n",
    "    y = scale(y)\n",
    "  }\n",
    "  return (list(\"x\" = x, \"y\" = y))\n",
    "}"
   ]
  },
  {
   "cell_type": "code",
   "execution_count": 4,
   "metadata": {},
   "outputs": [],
   "source": [
    "train<- read_data(\"Task2B_train.csv\", TRUE)\n",
    "test<- read_data(\"Task2B_test.csv\", TRUE)"
   ]
  },
  {
   "cell_type": "markdown",
   "metadata": {},
   "source": [
    "### Step II:\n",
    "II.\tSample 50 sets from the provided training set, each of which having 100 randomly selected data points (with replacement)."
   ]
  },
  {
   "cell_type": "code",
   "execution_count": 17,
   "metadata": {},
   "outputs": [],
   "source": [
    "D = 100  # the number of samples in each selected dataset\n",
    "L = 50 # number of datasets \n",
    "\n",
    "#number of points prepared for gengerating random samples\n",
    "N<-length(train)\n",
    "\n",
    "#number of rows in test and train datset\n",
    "test.N<-nrow(test$x)\n",
    "train.N<-nrow(train$x)\n",
    "\n",
    "#set lambda\n",
    "lambda<-seq(0,7,0.2)\n",
    "\n",
    "#build a datafrmae\n",
    "y_df<-data.frame(matrix(0,nrow=L*length(lambda), ncol=test.N+2))\n",
    "#give first 2 colmns a name\n",
    "names(y_df) <- c('lambda', 'l',  paste('y',1:(test.N), sep=''))\n",
    "#lambda column\n",
    "y_df$lambda<-rep(lambda, 1, each=L)\n",
    "#column for counting number of dataset \n",
    "y_df$l<-rep(1:L, length(lambda), each=1)"
   ]
  },
  {
   "cell_type": "markdown",
   "metadata": {},
   "source": [
    "#### Building sgd model"
   ]
  },
  {
   "cell_type": "code",
   "execution_count": 18,
   "metadata": {},
   "outputs": [],
   "source": [
    "#sgd model\n",
    "predict_func <- function(Phi, w){\n",
    "  return(Phi%*%w)\n",
    "} \n",
    "\n",
    "# auxiliary function to calculate the objective function for the training\n",
    "train_obj_func <- function (Phi, w, label, lambda){\n",
    "  # the L2 regulariser is already included in the objective function for training \n",
    "  return(mean((predict_func(Phi, w) - label)^2) + .5 * lambda * w %*% w)\n",
    "}\n",
    "\n",
    "# auxiliary function to compute the error of the model\n",
    "get_errors <- function(train_data, test_data, W) {\n",
    "  n_weights = dim(W)[1]\n",
    "  errors = matrix(0,nrow=n_weights, ncol=2)\n",
    "  for (tau in 1:n_weights) {\n",
    "    errors[tau,1] = train_obj_func(train_data$x, W[tau,],train_data$y, 0)\n",
    "    errors[tau,2] = train_obj_func(test_data$x, W[tau,],test_data$y, 0)\n",
    "  }\n",
    "  return(errors)\n",
    "}\n",
    "\n",
    "\n",
    "sgd_train <- function(train_x, train_y, lambda, eta, epsilon, max_epoch) {\n",
    "  \n",
    "  train_len = dim(train_x)[1]\n",
    "  tau_max = max_epoch * train_len\n",
    "  \n",
    "  W <- matrix(0,nrow=tau_max, ncol=ncol(train_x)) \n",
    "  W[1,] <- runif(ncol(train_x))\n",
    "  \n",
    "  tau = 1 # counter \n",
    "  obj_func_val <-matrix(0,nrow=tau_max, ncol=1) \n",
    "  obj_func_val[tau,1] = train_obj_func(train_x, W[tau,],train_y, lambda)\n",
    "  \n",
    "  while (tau <= tau_max){\n",
    "    \n",
    "    # check termination criteria\n",
    "    if (obj_func_val[tau,1]<=epsilon) {break}\n",
    "    \n",
    "    # shuffle data:\n",
    "    train_index <- sample(1:train_len, train_len, replace = FALSE)\n",
    "    \n",
    "    # loop over each datapoint\n",
    "    for (i in train_index) {\n",
    "      \n",
    "      # increment the counter\n",
    "      tau <- tau + 1\n",
    "      if (tau > tau_max) {break}\n",
    "      \n",
    "      # make the weight update\n",
    "      y_pred <- predict_func(train_x[i,], W[tau-1,])\n",
    "      W[tau,] <- sgd_update_weight(W[tau-1,], train_x[i,], train_y[i], y_pred, lambda, eta)\n",
    "      \n",
    "      # keep track of the objective funtion\n",
    "      obj_func_val[tau,1] = train_obj_func(train_x, W[tau,],train_y, lambda)\n",
    "    }\n",
    "  }\n",
    "  # resulting values for the training objective function as well as the weights\n",
    "  return(list('vals'=obj_func_val,'W'=W))\n",
    "}\n",
    "\n",
    "# updating the weight vector\n",
    "sgd_update_weight <- function(W_prev, x, y_true, y_pred, lambda, eta) {\n",
    "  #loss func with L2 REG\n",
    "  grad = - (c(y_true)-c(y_pred)) * x \n",
    "  return(W_prev - eta * (grad+lambda*W_prev))\n",
    "}"
   ]
  },
  {
   "cell_type": "markdown",
   "metadata": {},
   "source": [
    "### Step III:"
   ]
  },
  {
   "cell_type": "code",
   "execution_count": 19,
   "metadata": {},
   "outputs": [],
   "source": [
    "eta=0.01 #learning rate\n",
    "epsilon=0.001 #a threshold on the cost (to terminate the process)\n",
    "max_epoch=20 #maxium iterations\n",
    "\n",
    "#for each dataset\n",
    "for (l in 1:L){\n",
    "    #randomly gengerte some index for training\n",
    "    indx<-sample(train.N, D, replace = TRUE)\n",
    "    for (lam in lambda){\n",
    "         #train by sdg method and get last weight\n",
    "        train_res <- sgd_train(train$x[indx,], c(train$y[indx]), lam, eta, epsilon, max_epoch)\n",
    "        #sdg prediction\n",
    "        predict <- test$x %*% train_res$W[nrow(train_res$W),]\n",
    "        #write prediction into each row\n",
    "        y_df[y_df$lambda==lam & y_df$l==l, -c(1,2)] <- predict\n",
    "    }\n",
    "}"
   ]
  },
  {
   "cell_type": "code",
   "execution_count": 20,
   "metadata": {},
   "outputs": [],
   "source": [
    "#make a matrix to store all of lambda values\n",
    "match <- matrix(lambda,nrow=length(lambda))\n",
    "#collapse lambda and calculate each column mean\n",
    "y_df.bar <- aggregate(y_df, list(y_df$lambda), mean)\n",
    "#remove first 3 columns\n",
    "y_df.bar <- as.matrix(y_df.bar[,-c(1:3)])"
   ]
  },
  {
   "cell_type": "code",
   "execution_count": 21,
   "metadata": {},
   "outputs": [],
   "source": [
    "#calculate errors\n",
    "error <- matrix(0,nrow=length(lambda))\n",
    "#calculate bias\n",
    "bias2 <- matrix(0,nrow=length(lambda))\n",
    "#calculate variance\n",
    "variance <- matrix(0,nrow=length(lambda))\n",
    "\n",
    "#calculate bias^2, variance and test errors\n",
    "for (idx in 1:nrow(match)){\n",
    "  bias2[idx] <- mean((y_df.bar[idx,] - test$x)^2)\n",
    "  variance[idx] <- mean((y_df[y_df$lambda==match[idx],-c(1,2)]-y_df.bar[idx,])^2)\n",
    "  error[idx] <- mean((y_df[y_df$lambda==match[idx],-c(1,2)]-test$x)^2)\n",
    "  \n",
    "}"
   ]
  },
  {
   "cell_type": "code",
   "execution_count": 22,
   "metadata": {},
   "outputs": [
    {
     "data": {},
     "metadata": {},
     "output_type": "display_data"
    },
    {
     "data": {
      "image/png": "[encoded data removed]",
      "text/plain": [
       "plot without title"
      ]
     },
     "metadata": {},
     "output_type": "display_data"
    }
   ],
   "source": [
    "#plot these values.\n",
    "library(ggplot2)\n",
    "library(reshape2)\n",
    "dat <- as.data.frame(cbind(lambda, bias2=bias2, variance, error, bias2+variance))\n",
    "names(dat) <- c('lambda', 'bias2', 'variance', 'error', 'bias2variance')\n",
    "dat.m <- melt(dat, id='lambda')\n",
    "ggplot(data=dat.m, aes(x=log(lambda), y=value, color=variable)) + geom_line() + \n",
    "  labs(title='SGD Bias-Variance Decomposition') +  theme_minimal()"
   ]
  },
  {
   "cell_type": "markdown",
   "metadata": {},
   "source": [
    "### Summary\n",
    "Lambda=4.7 should be the best value of lambda. Because at that point, bias and variance are tradeoff. Which mean at this point, we can find a balance between bias and variance that minimizes the total error and get accurate model. \n",
    "\n",
    "From graph, we can see as the lambda increases, the bias slowly increases and the variance decreases. This points to the tradeoff between bias and variance due to model complexity, i.e. models that are too complex tend to have high variance and low bias, while models that are too simple will tend to have high bias and low variance. The best model will have both low bias and low variance. \n",
    "\n",
    "In this case, we repeat the model building process (through resampling) to obtain the average of prediction values. As the lambda increasing, bias becomes higher because these average prediction values are substantially different that the true value. Variance measures how inconsistent are the predictions from one another, over different training sets. And due to large variance, the most important factor that influence the tendency of error should be variance. So what we need to do is simultaneously reduce bias and variance as much as possible. There is a tradeoff (lambda=4.7) to be made when selecting models of different flexibility or complexity as well as to minimize these sources of error.\n"
   ]
  }
 ],
 "metadata": {
  "kernelspec": {
   "display_name": "Python 3",
   "language": "python",
   "name": "python3"
  },
  "language_info": {
   "codemirror_mode": {
    "name": "ipython",
    "version": 3
   },
   "file_extension": ".py",
   "mimetype": "text/x-python",
   "name": "python",
   "nbconvert_exporter": "python",
   "pygments_lexer": "ipython3",
   "version": "3.7.3"
  }
 },
 "nbformat": 4,
 "nbformat_minor": 2
}
