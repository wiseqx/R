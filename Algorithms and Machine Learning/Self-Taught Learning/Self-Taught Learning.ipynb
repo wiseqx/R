{
 "cells": [
  {
   "cell_type": "markdown",
   "metadata": {},
   "source": [
    "## Self-Taught Learning"
   ]
  },
  {
   "cell_type": "markdown",
   "metadata": {},
   "source": [
    "#### I : \n",
    "Load Task3C_labeled.csv, Task3C_unlabeled.csv and Task3C_test.csv data."
   ]
  },
  {
   "cell_type": "code",
   "execution_count": 1,
   "metadata": {
    "collapsed": true
   },
   "outputs": [
    {
     "name": "stderr",
     "output_type": "stream",
     "text": [
      "\n",
      "----------------------------------------------------------------------\n",
      "\n",
      "Your next step is to start H2O:\n",
      "    > h2o.init()\n",
      "\n",
      "For H2O package documentation, ask for help:\n",
      "    > ??h2o\n",
      "\n",
      "After starting H2O, you can use the Web UI at http://localhost:54321\n",
      "For more information visit http://docs.h2o.ai\n",
      "\n",
      "----------------------------------------------------------------------\n",
      "\n",
      "\n",
      "Attaching package: 'h2o'\n",
      "\n",
      "The following objects are masked from 'package:stats':\n",
      "\n",
      "    cor, sd, var\n",
      "\n",
      "The following objects are masked from 'package:base':\n",
      "\n",
      "    %*%, %in%, &&, ||, apply, as.factor, as.numeric, colnames,\n",
      "    colnames<-, ifelse, is.character, is.factor, is.numeric, log,\n",
      "    log10, log1p, log2, round, signif, trunc\n",
      "\n"
     ]
    }
   ],
   "source": [
    "#importing libraries and closing the warnings\n",
    "options(warn=-1)   \n",
    "library(h2o)        \n",
    "library(ggplot2)"
   ]
  },
  {
   "cell_type": "code",
   "execution_count": 2,
   "metadata": {},
   "outputs": [],
   "source": [
    "#calculate error rate\n",
    "error.rate <- function(Y1, T1){\n",
    "  if (nrow(Y1)!=nrow(T1)){\n",
    "    stop('error.rate: size of true lables and predicted labels mismatch')\n",
    "  }\n",
    "  return (sum(T1!=Y1)/nrow(T1))\n",
    "}"
   ]
  },
  {
   "cell_type": "code",
   "execution_count": 3,
   "metadata": {
    "collapsed": true
   },
   "outputs": [
    {
     "name": "stdout",
     "output_type": "stream",
     "text": [
      "\n",
      "H2O is not running yet, starting it now...\n",
      "\n",
      "Note:  In case of errors look at the following log files:\n",
      "    C:\\Users\\Qixuan\\AppData\\Local\\Temp\\RtmpARikUE/h2o_Qixuan_started_from_r.out\n",
      "    C:\\Users\\Qixuan\\AppData\\Local\\Temp\\RtmpARikUE/h2o_Qixuan_started_from_r.err\n",
      "\n",
      "\n",
      "Starting H2O JVM and connecting: .. Connection successful!\n",
      "\n",
      "R is connected to the H2O cluster: \n",
      "    H2O cluster uptime:         4 seconds 339 milliseconds \n",
      "    H2O cluster timezone:       Australia/Sydney \n",
      "    H2O data parsing timezone:  UTC \n",
      "    H2O cluster version:        3.18.0.8 \n",
      "    H2O cluster version age:    23 days  \n",
      "    H2O cluster name:           H2O_started_from_R_Qixuan_dml018 \n",
      "    H2O cluster total nodes:    1 \n",
      "    H2O cluster total memory:   6.00 GB \n",
      "    H2O cluster total cores:    4 \n",
      "    H2O cluster allowed cores:  4 \n",
      "    H2O cluster healthy:        TRUE \n",
      "    H2O Connection ip:          localhost \n",
      "    H2O Connection port:        54321 \n",
      "    H2O Connection proxy:       NA \n",
      "    H2O Internal Security:      FALSE \n",
      "    H2O API Extensions:         Algos, AutoML, Core V3, Core V4 \n",
      "    R Version:                  R version 3.4.3 (2017-11-30) \n",
      "\n",
      "  |======================================================================| 100%\n",
      "  |======================================================================| 100%\n",
      "  |======================================================================| 100%\n"
     ]
    }
   ],
   "source": [
    "#If there is a proxy: proxy.old <- Sys.getenv('http_proxy'); Sys.setenv('http_proxy'='');\n",
    "localH2O =  h2o.init(nthreads = -1, port = 54321, max_mem_size = '6G', startH2O = TRUE)\n",
    "\n",
    "# Use the \"absolute\" path to the datasets on machine\n",
    "labeled.frame <- h2o.importFile(path = 'C:/Users/Qixuan/Desktop/5201A2/assessments_datasets/Task3C_labeled.csv' ,sep=',') \n",
    "unlabeled.frame <- h2o.importFile(path = 'C:/Users/Qixuan/Desktop/5201A2/assessments_datasets/Task3C_unlabeled.csv' ,sep=',') \n",
    "test.frame <- h2o.importFile(path = 'C:/Users/Qixuan/Desktop/5201A2/assessments_datasets/Task3C_test.csv' ,sep=',') "
   ]
  },
  {
   "cell_type": "code",
   "execution_count": 4,
   "metadata": {},
   "outputs": [],
   "source": [
    "#remove NA in unlabeled dataset\n",
    "unlabeled.frame<- na.omit(unlabeled.frame)\n",
    "\n",
    "#combining labeled dataframe and unlabeled dataframe\n",
    "train.frame <- h2o.rbind(labeled.frame, unlabeled.frame)\n",
    "\n",
    "#change labels to factor format\n",
    "labeled.frame[,1] <- as.factor(labeled.frame$label)\n",
    "test.frame[,1] <- as.factor(test.frame$label)"
   ]
  },
  {
   "cell_type": "code",
   "execution_count": 5,
   "metadata": {},
   "outputs": [],
   "source": [
    "#build reconstruction and classification error matrix for training and test dataset\n",
    "reconstruction.train.error <- matrix(NA, nrow=25, ncol=1)\n",
    "classification.labeled.error <- matrix(NA, nrow=25, ncol=1)\n",
    "reconstruction.test.error <- matrix(NA, nrow=25, ncol=1)\n",
    "classification.test.error <- matrix(NA, nrow=25, ncol=1)"
   ]
  },
  {
   "cell_type": "markdown",
   "metadata": {},
   "source": [
    "#### II & III & V: "
   ]
  },
  {
   "cell_type": "code",
   "execution_count": 6,
   "metadata": {},
   "outputs": [],
   "source": [
    "#build a function for building encoder models\n",
    "model_func <- function(x){\n",
    "  nn.model=h2o.deeplearning(      #call function \n",
    "  x = 1:ncol(train.frame),        # select all pixels + extra features\n",
    "  training_frame = train.frame,   # specify the frame (labeled+unlabeled)    \n",
    "  hidden = c(x),                  # number of layers and their units\n",
    "  epochs = 50,                    # maximum number of epoches  \n",
    "  activation = 'Tanh',            # activation function \n",
    "  autoencoder = TRUE,             # is it an autoencoder? Yes!\n",
    "  l2 = 0.1                        # specify the L2 regularisation weight to add stability\n",
    ")\n",
    "  return(nn.model)\n",
    "}"
   ]
  },
  {
   "cell_type": "code",
   "execution_count": 7,
   "metadata": {},
   "outputs": [],
   "source": [
    "#training model with original data + extra feature\n",
    "model_func2 <- function(df){  \n",
    "  nn.model=h2o.deeplearning(       # build a NN classifier based on the labeled training data\n",
    "  x = 2:ncol(df),                  # select all pixels + extra features\n",
    "  y = 1,                           # specify training label\n",
    "  training_frame = df,             # specify the frame (imported file)    \n",
    "  hidden = c(100),                 # number of layers and their units\n",
    "  epochs = 50,                     # maximum number of epoches  \n",
    "  activation = 'Tanh',             # activation function \n",
    "  autoencoder = FALSE,             # is it an autoencoder? No!\n",
    "  l2 = 0.1                         # specify the L2 regularisation weight to add stability\n",
    ")\n",
    "  return(nn.model)\n",
    "}"
   ]
  },
  {
   "cell_type": "code",
   "execution_count": 11,
   "metadata": {
    "collapsed": true
   },
   "outputs": [
    {
     "name": "stdout",
     "output_type": "stream",
     "text": [
      "  |======================================================================| 100%\n",
      "  |======================================================================| 100%\n",
      "  |======================================================================| 100%\n",
      "  |======================================================================| 100%\n",
      "  |======================================================================| 100%\n",
      "  |======================================================================| 100%\n",
      "  |======================================================================| 100%\n",
      "  |======================================================================| 100%\n",
      "  |======================================================================| 100%\n",
      "  |======================================================================| 100%\n",
      "  |======================================================================| 100%\n",
      "  |======================================================================| 100%\n",
      "  |======================================================================| 100%\n",
      "  |======================================================================| 100%\n",
      "  |======================================================================| 100%\n",
      "  |======================================================================| 100%\n",
      "  |======================================================================| 100%\n",
      "  |======================================================================| 100%\n",
      "  |======================================================================| 100%\n",
      "  |======================================================================| 100%\n",
      "  |======================================================================| 100%\n",
      "  |======================================================================| 100%\n",
      "  |======================================================================| 100%\n",
      "  |======================================================================| 100%\n",
      "  |======================================================================| 100%\n",
      "  |======================================================================| 100%\n",
      "  |======================================================================| 100%\n",
      "  |======================================================================| 100%\n",
      "  |======================================================================| 100%\n",
      "  |======================================================================| 100%\n",
      "  |======================================================================| 100%\n",
      "  |======================================================================| 100%\n",
      "  |======================================================================| 100%\n",
      "  |======================================================================| 100%\n",
      "  |======================================================================| 100%\n",
      "  |======================================================================| 100%\n",
      "  |======================================================================| 100%\n",
      "  |======================================================================| 100%\n",
      "  |======================================================================| 100%\n",
      "  |======================================================================| 100%\n",
      "  |======================================================================| 100%\n",
      "  |======================================================================| 100%\n",
      "  |======================================================================| 100%\n",
      "  |======================================================================| 100%\n",
      "  |======================================================================| 100%\n",
      "  |======================================================================| 100%\n",
      "  |======================================================================| 100%\n",
      "  |======================================================================| 100%\n",
      "  |======================================================================| 100%\n",
      "  |======================================================================| 100%\n",
      "  |======================================================================| 100%\n",
      "  |======================================================================| 100%\n",
      "  |======================================================================| 100%\n",
      "  |======================================================================| 100%\n",
      "  |======================================================================| 100%\n",
      "  |======================================================================| 100%\n",
      "  |======================================================================| 100%\n",
      "  |======================================================================| 100%\n",
      "  |======================================================================| 100%\n",
      "  |======================================================================| 100%\n",
      "  |======================================================================| 100%\n",
      "  |======================================================================| 100%\n",
      "  |======================================================================| 100%\n",
      "  |======================================================================| 100%\n",
      "  |======================================================================| 100%\n",
      "  |======================================================================| 100%\n",
      "  |======================================================================| 100%\n",
      "  |======================================================================| 100%\n",
      "  |======================================================================| 100%\n",
      "  |======================================================================| 100%\n",
      "  |======================================================================| 100%\n",
      "  |======================================================================| 100%\n",
      "  |======================================================================| 100%\n",
      "  |======================================================================| 100%\n",
      "  |======================================================================| 100%\n",
      "  |======================================================================| 100%\n",
      "  |======================================================================| 100%\n",
      "  |======================================================================| 100%\n",
      "  |======================================================================| 100%\n",
      "  |======================================================================| 100%\n",
      "  |======================================================================| 100%\n",
      "  |======================================================================| 100%\n",
      "  |======================================================================| 100%\n",
      "  |======================================================================| 100%\n",
      "  |======================================================================| 100%\n",
      "  |======================================================================| 100%\n",
      "  |======================================================================| 100%\n",
      "  |======================================================================| 100%\n",
      "  |======================================================================| 100%\n",
      "  |======================================================================| 100%\n",
      "  |======================================================================| 100%\n",
      "  |======================================================================| 100%\n",
      "  |======================================================================| 100%\n",
      "  |======================================================================| 100%\n",
      "  |======================================================================| 100%\n",
      "  |======================================================================| 100%\n",
      "  |======================================================================| 100%\n",
      "  |======================================================================| 100%\n",
      "  |======================================================================| 100%\n",
      "  |======================================================================| 100%\n"
     ]
    }
   ],
   "source": [
    "i=1\n",
    "for (k in seq(20, 500, 20)){ # for different neurons in the hidden layer seq(20,80,20)\n",
    "  \n",
    "  #### Q3.2 & Q3.3:\n",
    "  ## Train an autoencoder with only one hidden layer and change the number of its neurons to: 20, 40, 60, 80, .., 500\n",
    "  ## Calculate and record the reconstruction error\n",
    "    \n",
    "  model<-model_func(k)    #build a autoencoder model\n",
    "  mse<-h2o.anomaly(model,train.frame)    #calculate MSE for each images \n",
    "  reconstruction.train.error[i]<-mean(mse) #calculate the average of MSE \n",
    "\n",
    "  #### Q3.5\n",
    "  ## A. Add the output of the middle layer as extra features to the original feature set,\n",
    "  ## B. Train a 3-layer NN (similar to Step IV) using all features (original + extra). Then calculate and record the test error.\n",
    "\n",
    "  project<- h2o.deepfeatures(model, labeled.frame[,-1], layer=1)    # extract the middle layer as extra features\n",
    "  project<- as.h2o(project)                                         #format the features table\n",
    "  cancat.df<-h2o.cbind(labeled.frame, project)                      #combine original data and new features\n",
    "  labeled.predict <- h2o.predict(model_func2(cancat.df), test.frame)$predict     #predict labels\n",
    "  classification.test.error[i]<-error.rate(test.frame$label, labeled.predict)    #calculate errors\n",
    "  i<-i+1\n",
    "}"
   ]
  },
  {
   "cell_type": "code",
   "execution_count": 12,
   "metadata": {
    "collapsed": true
   },
   "outputs": [
    {
     "data": {
      "text/html": [
       "<table>\n",
       "<tbody>\n",
       "\t<tr><td>0.030183028</td></tr>\n",
       "\t<tr><td>0.014946623</td></tr>\n",
       "\t<tr><td>0.010282409</td></tr>\n",
       "\t<tr><td>0.008430945</td></tr>\n",
       "\t<tr><td>0.008840729</td></tr>\n",
       "\t<tr><td>0.007460532</td></tr>\n",
       "\t<tr><td>0.007786399</td></tr>\n",
       "\t<tr><td>0.008503481</td></tr>\n",
       "\t<tr><td>0.007588918</td></tr>\n",
       "\t<tr><td>0.007692004</td></tr>\n",
       "\t<tr><td>0.008485839</td></tr>\n",
       "\t<tr><td>0.009242178</td></tr>\n",
       "\t<tr><td>0.009380728</td></tr>\n",
       "\t<tr><td>0.008023988</td></tr>\n",
       "\t<tr><td>0.008186006</td></tr>\n",
       "\t<tr><td>0.008099607</td></tr>\n",
       "\t<tr><td>0.008161915</td></tr>\n",
       "\t<tr><td>0.008537450</td></tr>\n",
       "\t<tr><td>0.009439474</td></tr>\n",
       "\t<tr><td>0.008740141</td></tr>\n",
       "\t<tr><td>0.008396207</td></tr>\n",
       "\t<tr><td>0.008477287</td></tr>\n",
       "\t<tr><td>0.008027079</td></tr>\n",
       "\t<tr><td>0.009042759</td></tr>\n",
       "\t<tr><td>0.009276641</td></tr>\n",
       "</tbody>\n",
       "</table>\n"
      ],
      "text/latex": [
       "\\begin{tabular}{l}\n",
       "\t 0.030183028\\\\\n",
       "\t 0.014946623\\\\\n",
       "\t 0.010282409\\\\\n",
       "\t 0.008430945\\\\\n",
       "\t 0.008840729\\\\\n",
       "\t 0.007460532\\\\\n",
       "\t 0.007786399\\\\\n",
       "\t 0.008503481\\\\\n",
       "\t 0.007588918\\\\\n",
       "\t 0.007692004\\\\\n",
       "\t 0.008485839\\\\\n",
       "\t 0.009242178\\\\\n",
       "\t 0.009380728\\\\\n",
       "\t 0.008023988\\\\\n",
       "\t 0.008186006\\\\\n",
       "\t 0.008099607\\\\\n",
       "\t 0.008161915\\\\\n",
       "\t 0.008537450\\\\\n",
       "\t 0.009439474\\\\\n",
       "\t 0.008740141\\\\\n",
       "\t 0.008396207\\\\\n",
       "\t 0.008477287\\\\\n",
       "\t 0.008027079\\\\\n",
       "\t 0.009042759\\\\\n",
       "\t 0.009276641\\\\\n",
       "\\end{tabular}\n"
      ],
      "text/markdown": [
       "\n",
       "| 0.030183028 | \n",
       "| 0.014946623 | \n",
       "| 0.010282409 | \n",
       "| 0.008430945 | \n",
       "| 0.008840729 | \n",
       "| 0.007460532 | \n",
       "| 0.007786399 | \n",
       "| 0.008503481 | \n",
       "| 0.007588918 | \n",
       "| 0.007692004 | \n",
       "| 0.008485839 | \n",
       "| 0.009242178 | \n",
       "| 0.009380728 | \n",
       "| 0.008023988 | \n",
       "| 0.008186006 | \n",
       "| 0.008099607 | \n",
       "| 0.008161915 | \n",
       "| 0.008537450 | \n",
       "| 0.009439474 | \n",
       "| 0.008740141 | \n",
       "| 0.008396207 | \n",
       "| 0.008477287 | \n",
       "| 0.008027079 | \n",
       "| 0.009042759 | \n",
       "| 0.009276641 | \n",
       "\n",
       "\n"
      ],
      "text/plain": [
       "      [,1]       \n",
       " [1,] 0.030183028\n",
       " [2,] 0.014946623\n",
       " [3,] 0.010282409\n",
       " [4,] 0.008430945\n",
       " [5,] 0.008840729\n",
       " [6,] 0.007460532\n",
       " [7,] 0.007786399\n",
       " [8,] 0.008503481\n",
       " [9,] 0.007588918\n",
       "[10,] 0.007692004\n",
       "[11,] 0.008485839\n",
       "[12,] 0.009242178\n",
       "[13,] 0.009380728\n",
       "[14,] 0.008023988\n",
       "[15,] 0.008186006\n",
       "[16,] 0.008099607\n",
       "[17,] 0.008161915\n",
       "[18,] 0.008537450\n",
       "[19,] 0.009439474\n",
       "[20,] 0.008740141\n",
       "[21,] 0.008396207\n",
       "[22,] 0.008477287\n",
       "[23,] 0.008027079\n",
       "[24,] 0.009042759\n",
       "[25,] 0.009276641"
      ]
     },
     "metadata": {},
     "output_type": "display_data"
    }
   ],
   "source": [
    "#show reconstrction errors\n",
    "reconstruction.train.error"
   ]
  },
  {
   "cell_type": "code",
   "execution_count": 13,
   "metadata": {
    "collapsed": true
   },
   "outputs": [
    {
     "data": {
      "text/html": [
       "<table>\n",
       "<tbody>\n",
       "\t<tr><td>0.539</td></tr>\n",
       "\t<tr><td>0.515</td></tr>\n",
       "\t<tr><td>0.603</td></tr>\n",
       "\t<tr><td>0.605</td></tr>\n",
       "\t<tr><td>0.584</td></tr>\n",
       "\t<tr><td>0.626</td></tr>\n",
       "\t<tr><td>0.545</td></tr>\n",
       "\t<tr><td>0.585</td></tr>\n",
       "\t<tr><td>0.565</td></tr>\n",
       "\t<tr><td>0.561</td></tr>\n",
       "\t<tr><td>0.364</td></tr>\n",
       "\t<tr><td>0.355</td></tr>\n",
       "\t<tr><td>0.593</td></tr>\n",
       "\t<tr><td>0.655</td></tr>\n",
       "\t<tr><td>0.581</td></tr>\n",
       "\t<tr><td>0.608</td></tr>\n",
       "\t<tr><td>0.629</td></tr>\n",
       "\t<tr><td>0.515</td></tr>\n",
       "\t<tr><td>0.575</td></tr>\n",
       "\t<tr><td>0.578</td></tr>\n",
       "\t<tr><td>0.582</td></tr>\n",
       "\t<tr><td>0.549</td></tr>\n",
       "\t<tr><td>0.615</td></tr>\n",
       "\t<tr><td>0.627</td></tr>\n",
       "\t<tr><td>0.604</td></tr>\n",
       "</tbody>\n",
       "</table>\n"
      ],
      "text/latex": [
       "\\begin{tabular}{l}\n",
       "\t 0.539\\\\\n",
       "\t 0.515\\\\\n",
       "\t 0.603\\\\\n",
       "\t 0.605\\\\\n",
       "\t 0.584\\\\\n",
       "\t 0.626\\\\\n",
       "\t 0.545\\\\\n",
       "\t 0.585\\\\\n",
       "\t 0.565\\\\\n",
       "\t 0.561\\\\\n",
       "\t 0.364\\\\\n",
       "\t 0.355\\\\\n",
       "\t 0.593\\\\\n",
       "\t 0.655\\\\\n",
       "\t 0.581\\\\\n",
       "\t 0.608\\\\\n",
       "\t 0.629\\\\\n",
       "\t 0.515\\\\\n",
       "\t 0.575\\\\\n",
       "\t 0.578\\\\\n",
       "\t 0.582\\\\\n",
       "\t 0.549\\\\\n",
       "\t 0.615\\\\\n",
       "\t 0.627\\\\\n",
       "\t 0.604\\\\\n",
       "\\end{tabular}\n"
      ],
      "text/markdown": [
       "\n",
       "| 0.539 | \n",
       "| 0.515 | \n",
       "| 0.603 | \n",
       "| 0.605 | \n",
       "| 0.584 | \n",
       "| 0.626 | \n",
       "| 0.545 | \n",
       "| 0.585 | \n",
       "| 0.565 | \n",
       "| 0.561 | \n",
       "| 0.364 | \n",
       "| 0.355 | \n",
       "| 0.593 | \n",
       "| 0.655 | \n",
       "| 0.581 | \n",
       "| 0.608 | \n",
       "| 0.629 | \n",
       "| 0.515 | \n",
       "| 0.575 | \n",
       "| 0.578 | \n",
       "| 0.582 | \n",
       "| 0.549 | \n",
       "| 0.615 | \n",
       "| 0.627 | \n",
       "| 0.604 | \n",
       "\n",
       "\n"
      ],
      "text/plain": [
       "      [,1] \n",
       " [1,] 0.539\n",
       " [2,] 0.515\n",
       " [3,] 0.603\n",
       " [4,] 0.605\n",
       " [5,] 0.584\n",
       " [6,] 0.626\n",
       " [7,] 0.545\n",
       " [8,] 0.585\n",
       " [9,] 0.565\n",
       "[10,] 0.561\n",
       "[11,] 0.364\n",
       "[12,] 0.355\n",
       "[13,] 0.593\n",
       "[14,] 0.655\n",
       "[15,] 0.581\n",
       "[16,] 0.608\n",
       "[17,] 0.629\n",
       "[18,] 0.515\n",
       "[19,] 0.575\n",
       "[20,] 0.578\n",
       "[21,] 0.582\n",
       "[22,] 0.549\n",
       "[23,] 0.615\n",
       "[24,] 0.627\n",
       "[25,] 0.604"
      ]
     },
     "metadata": {},
     "output_type": "display_data"
    }
   ],
   "source": [
    "#show classification errors\n",
    "classification.test.error"
   ]
  },
  {
   "cell_type": "markdown",
   "metadata": {},
   "source": [
    "### IV:\n",
    "Use the 3-layer NN or “h2o.deeplearning” function to build a model with 100 units in the hidden layer using\n",
    "all the original attributes from the training set. Then, calculate and record the test\n",
    "error."
   ]
  },
  {
   "cell_type": "code",
   "execution_count": 14,
   "metadata": {
    "collapsed": true
   },
   "outputs": [
    {
     "name": "stdout",
     "output_type": "stream",
     "text": [
      "  |======================================================================| 100%\n"
     ]
    }
   ],
   "source": [
    "# build a neural network classifier based on the labeled training data\n",
    "NN.model <- h2o.deeplearning(    \n",
    "  x = 2:ncol(labeled.frame),      # select all pixels + extra features\n",
    "  y = 1,                          # specify training label\n",
    "  training_frame = labeled.frame, # specify the frame (using labeled data required from Q1)    \n",
    "  hidden = c(100),                # number of layers and their units\n",
    "  epochs = 50,                    # maximum number of epoches  \n",
    "  activation = 'Tanh',            # activation function \n",
    "  autoencoder = FALSE,            # is it an autoencoder? No!\n",
    "  l2 = 0.1                        # specify the L2 regularisation weight to add stability\n",
    ")"
   ]
  },
  {
   "cell_type": "code",
   "execution_count": 15,
   "metadata": {
    "collapsed": true
   },
   "outputs": [
    {
     "name": "stdout",
     "output_type": "stream",
     "text": [
      "  |======================================================================| 100%\n"
     ]
    },
    {
     "data": {
      "text/html": [
       "0.55"
      ],
      "text/latex": [
       "0.55"
      ],
      "text/markdown": [
       "0.55"
      ],
      "text/plain": [
       "[1] 0.55"
      ]
     },
     "metadata": {},
     "output_type": "display_data"
    }
   ],
   "source": [
    "#predict the label and calculate the error\n",
    "labeled.predict <- h2o.predict(NN.model, test.frame)$predict\n",
    "q4.error<-error.rate(test.frame$label, labeled.predict)\n",
    "q4.error"
   ]
  },
  {
   "cell_type": "code",
   "execution_count": 16,
   "metadata": {},
   "outputs": [],
   "source": [
    "# Produce the needed plots.\n",
    "#set K\n",
    "K.data<-seq(20,500,20)\n",
    "G.data<-K.data+ncol(labeled.frame)\n",
    "#build a data frame for error\n",
    "reconst.error<-data.frame(cbind(rep(K.data, 1, each=1),reconstruction.train.error))\n",
    "misclust.error<-data.frame(cbind(rep(G.data, 1, each=1),classification.test.error))\n",
    "\n",
    "#give it a column name\n",
    "names(reconst.error)<-c('Number_of_neurons','Error_rate')\n",
    "names(misclust.error)<-c('Number_of_features','Error_rate')\n"
   ]
  },
  {
   "cell_type": "code",
   "execution_count": 17,
   "metadata": {},
   "outputs": [
    {
     "data": {},
     "metadata": {},
     "output_type": "display_data"
    },
    {
     "data": {
      "image/png": "[encoded data removed]",
      "text/plain": [
       "plot without title"
      ]
     },
     "metadata": {},
     "output_type": "display_data"
    }
   ],
   "source": [
    "#plotting \n",
    "ggplot(data=reconst.error, aes(x=Number_of_neurons, y=Error_rate)) +\n",
    "  geom_line() +\n",
    "  labs(title='Reconstruction error rate VS Number of units in hidden layers') +  \n",
    "  theme_minimal()"
   ]
  },
  {
   "cell_type": "markdown",
   "metadata": {},
   "source": [
    "##### explain findings based on the plot:\n",
    "With the number of units in the hidden layer increasing, the reconstruction error is decreasing. It has a dramatic decrease until the number of units up to 100. After that, the average error rate is around 0.9% as the number of units increasing."
   ]
  },
  {
   "cell_type": "markdown",
   "metadata": {},
   "source": [
    "#### VI\n",
    "Plot the error rates for the 3-layer neural networks from Step IV and V while the\n",
    "x-axis is the number of features and y-axis is the classification error."
   ]
  },
  {
   "cell_type": "code",
   "execution_count": 18,
   "metadata": {},
   "outputs": [
    {
     "data": {},
     "metadata": {},
     "output_type": "display_data"
    },
    {
     "data": {
      "image/png": "[encoded data removed]",
      "text/plain": [
       "plot without title"
      ]
     },
     "metadata": {},
     "output_type": "display_data"
    }
   ],
   "source": [
    "#plotting classfication errors\n",
    "ggplot(data=misclust.error, aes(x=Number_of_features, y=Error_rate),label=\"Q4\") +\n",
    "  geom_line() +\n",
    "  geom_point(aes(x=ncol(train.frame)-1, y=q4.error), size=3) +\n",
    "  geom_text(aes(x=ncol(train.frame)-1, y=q4.error-0.01, label=\"Q4\"))+\n",
    "  labs(title='Classification error VS Number of features') +  \n",
    "  theme_minimal()"
   ]
  },
  {
   "cell_type": "markdown",
   "metadata": {},
   "source": [
    "### VII:\n",
    "Report the optimum number(s) of units in the middle layer of the autoencoder in\n",
    "terms of the reconstruction and misclassification errors"
   ]
  },
  {
   "cell_type": "markdown",
   "metadata": {},
   "source": [
    "Because the misclassfication error hebavior is undisireable (It may caused by small training data set or model overfitting). We can just infer the optimum units from the reconstruction error plot. I think the optimal units should be 100. Because the error has a dramatic decrease until the number of units up to 100. And then, the average error tends to be gentle. Also, the performance difference does not have any changes when the hidden layers increasing start from 100. So we could eliminate unnecessary and redundant nodes and take 100 as our optimum units."
   ]
  },
  {
   "cell_type": "markdown",
   "metadata": {},
   "source": [
    "### VIII:\n",
    "Comparing the plot from Step III and VI, do you observe any relation between\n",
    "the reconstruction error and misclassification error? Explain your finding in your Notebook\n",
    "file."
   ]
  },
  {
   "cell_type": "markdown",
   "metadata": {},
   "source": [
    "From the plots above, there is less relation between the reconstruction error and misclassfication error because there is too small training data set as well as too large test set to make the misclassfication errors behaviour abnormal. We can see the errors are all around 60%, and the error around 30% is a occasional event. But in fact, if we have optimal enough training set, we might see that with the increasing of number of features or with the increasing number of neurons, the errors would be decreasing. However, there should be a point where can keep the error around (in our 3 layer case, it is 100). Also, with the increasing number of features, the error would be increase after a specific number of features because too many parameters would make the model overfitting.  "
   ]
  }
 ],
 "metadata": {
  "kernelspec": {
   "display_name": "R",
   "language": "R",
   "name": "ir"
  },
  "language_info": {
   "codemirror_mode": "r",
   "file_extension": ".r",
   "mimetype": "text/x-r-source",
   "name": "R",
   "pygments_lexer": "r",
   "version": "3.6.1"
  }
 },
 "nbformat": 4,
 "nbformat_minor": 2
}
